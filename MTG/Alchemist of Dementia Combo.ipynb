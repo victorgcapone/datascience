{
 "cells": [
  {
   "cell_type": "markdown",
   "metadata": {},
   "source": [
    "# The Alchemist of Dementia Combo\n",
    "This analysis will focus on a little combo for MTG involving two cards\n",
    "\n",
    ">Undead Alchemist - 3U  \n",
    ">If a zombie you control would cause combat damage to  \n",
    ">a player, that player put that many cards from the top  \n",
    ">of his or her library into his or her graveyard instead.  \n",
    "> \n",
    ">Whenever a creature card is put in an opponents graveyard coming  \n",
    ">from his or her library exile that card e put a 2/2 black Zombie  \n",
    ">token into play  \n",
    "\n",
    ">Altar of Dementia - 2  \n",
    ">Sacrifice a creature: target opponent put a number of  \n",
    ">cards equal to the power of that creature from the  \n",
    ">top of his or her library into his or her graveyard.  \n",
    "\n",
    "The combo is simple, but not game winning, just use a creature to mill your opponent  \n",
    "creating more zombies to mill some more. Using lords you can mill more for each zombie  \n",
    "but how good is this combo? Let's take a look."
   ]
  },
  {
   "cell_type": "markdown",
   "metadata": {},
   "source": [
    "## Starting conditions\n",
    "\n",
    "Let's assume you have Undead Alchemist and Altar of Dementia on the board and sacrifices a $p$/$t$ Zombie to start the combo, let's say your opponent has $C_0$ cards remaining in their deck and $k_0$ of them are creature cards, each time you sacrifice a Zombie, they mill $p$ cards, this amounts to a hypergeometric distribution for the random variable $M$, the amount of creatures milled: $M \\sim HGeom(k_0,C_0,p)$ "
   ]
  },
  {
   "cell_type": "code",
   "execution_count": 242,
   "metadata": {},
   "outputs": [],
   "source": [
    "%config Completer.use_jedi = False\n",
    "from scipy.stats import hypergeom\n",
    "import matplotlib.pyplot as plt"
   ]
  },
  {
   "cell_type": "code",
   "execution_count": 243,
   "metadata": {},
   "outputs": [],
   "source": [
    "# Tweak the parameters for different situations\n",
    "C_0 = 80\n",
    "k_0 = 20\n",
    "p = 2"
   ]
  },
  {
   "cell_type": "code",
   "execution_count": 244,
   "metadata": {},
   "outputs": [],
   "source": [
    "# A hypergeometric random variable with C_0 population, k_0 successes and p draws\n",
    "M = hypergeom(C_0, k_0, p)"
   ]
  },
  {
   "cell_type": "code",
   "execution_count": 245,
   "metadata": {},
   "outputs": [
    {
     "data": {
      "text/plain": [
       "1.0000000000000007"
      ]
     },
     "execution_count": 245,
     "metadata": {},
     "output_type": "execute_result"
    }
   ],
   "source": [
    "# With p draws we can get a maximum of p successes\n",
    "# This should be 1 since it is the total probability of all possible events\n",
    "sum([M.pmf(x) for x in range(p+1)])"
   ]
  },
  {
   "cell_type": "code",
   "execution_count": 246,
   "metadata": {},
   "outputs": [
    {
     "data": {
      "text/plain": [
       "0.5"
      ]
     },
     "execution_count": 246,
     "metadata": {},
     "output_type": "execute_result"
    }
   ],
   "source": [
    "# On average we should expect to mill p(k_0/C_0) on each iteration\n",
    "M.mean()"
   ]
  },
  {
   "cell_type": "code",
   "execution_count": 247,
   "metadata": {},
   "outputs": [],
   "source": [
    "# We can now create a function to simulate the combo, each iteration changes the parameters\n",
    "# and we stop when we have milled everything or when we don't have anymore zombies\n",
    "def simulate_combo(C, k, p, zombies=1):\n",
    "    # While we have creatures and the opponent has cards in the deck\n",
    "    while C > 0 and zombies > 0 and p < C:\n",
    "        M = hypergeom(C, k, p)\n",
    "        creatures_milled = M.rvs()\n",
    "        # We sacrifice one zombie and make as many as the amount of creatures milled\n",
    "        zombies = zombies - 1 + creatures_milled\n",
    "        # Our opponen always mills equal to the power\n",
    "        C -= p\n",
    "        k -= creatures_milled\n",
    "    # If they are milled completely or we have more power than cards\n",
    "    if C - (p*zombies) <= 0:\n",
    "        return True\n",
    "    return False"
   ]
  },
  {
   "cell_type": "code",
   "execution_count": 251,
   "metadata": {},
   "outputs": [],
   "source": [
    "def combo_probability(C, k, p, iters=50):\n",
    "    count = 0\n",
    "    for i in range(iters):\n",
    "        count += 1 if simulate_combo(C,k,p) else 0\n",
    "    return count/iters"
   ]
  },
  {
   "cell_type": "code",
   "execution_count": 255,
   "metadata": {},
   "outputs": [],
   "source": [
    "card_amounts = range(10, 80, 10)\n",
    "creatures = range(5,40,5)\n",
    "\n",
    "probs_p_4 = [\n",
    "    [\n",
    "        1 if k > C else combo_probability(C, k, 4) for k in creatures\n",
    "    ] \n",
    "    for C in card_amounts\n",
    "]"
   ]
  },
  {
   "cell_type": "code",
   "execution_count": 256,
   "metadata": {},
   "outputs": [
    {
     "data": {
      "text/plain": [
       "[[1.0, 1.0, 1, 1, 1, 1, 1],\n",
       " [0.42, 0.92, 1.0, 1.0, 1, 1, 1],\n",
       " [0.0, 0.66, 0.92, 0.98, 1.0, 1.0, 1],\n",
       " [0.0, 0.18, 0.84, 0.94, 0.96, 1.0, 1.0],\n",
       " [0.0, 0.0, 0.5, 0.84, 0.9, 0.98, 1.0],\n",
       " [0.0, 0.0, 0.24, 0.56, 0.84, 0.94, 0.98],\n",
       " [0.0, 0.0, 0.0, 0.34, 0.68, 0.78, 0.88]]"
      ]
     },
     "execution_count": 256,
     "metadata": {},
     "output_type": "execute_result"
    }
   ],
   "source": [
    "probs_p_4"
   ]
  },
  {
   "cell_type": "code",
   "execution_count": 257,
   "metadata": {},
   "outputs": [
    {
     "data": {
      "text/plain": [
       "<matplotlib.image.AxesImage at 0x7f31d2966160>"
      ]
     },
     "execution_count": 257,
     "metadata": {},
     "output_type": "execute_result"
    },
    {
     "data": {
      "image/png": "[encoded data removed]",
      "text/plain": [
       "<Figure size 432x288 with 1 Axes>"
      ]
     },
     "metadata": {
      "needs_background": "light"
     },
     "output_type": "display_data"
    }
   ],
   "source": [
    "plt.imshow(probs_p_4)"
   ]
  },
  {
   "cell_type": "code",
   "execution_count": null,
   "metadata": {},
   "outputs": [],
   "source": []
  }
 ],
 "metadata": {
  "kernelspec": {
   "display_name": "Python 3",
   "language": "python",
   "name": "python3"
  },
  "language_info": {
   "codemirror_mode": {
    "name": "ipython",
    "version": 3
   },
   "file_extension": ".py",
   "mimetype": "text/x-python",
   "name": "python",
   "nbconvert_exporter": "python",
   "pygments_lexer": "ipython3",
   "version": "3.8.8"
  }
 },
 "nbformat": 4,
 "nbformat_minor": 2
}
